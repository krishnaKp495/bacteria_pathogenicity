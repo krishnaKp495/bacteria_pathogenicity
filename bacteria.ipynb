{
 "cells": [
  {
   "cell_type": "code",
   "execution_count": null,
   "id": "45ccb6d6-3da3-44b9-a905-51489491d262",
   "metadata": {},
   "outputs": [],
   "source": [
    "# Import all the libraries"
   ]
  },
  {
   "cell_type": "code",
   "execution_count": null,
   "id": "dfd1d53b-99c2-4e9c-aac9-3afd369fdb3b",
   "metadata": {},
   "outputs": [],
   "source": [
    "import pandas as pd\n",
    "from sklearn.model_selection import train_test_split\n",
    "from sklearn.metrics import accuracy_score\n",
    "from sklearn.linear_model import LogisticRegression\n",
    "from sklearn.ensemble import RandomForestClassifier\n",
    "from sklearn.svm import SVC\n",
    "from sklearn.tree import DecisionTreeClassifier\n",
    "from sklearn.feature_extraction.text import CountVectorizer\n",
    "from sklearn.neighbors import KNeighborsClassifier\n",
    "from sklearn.ensemble import GradientBoostingClassifier\n",
    "import re"
   ]
  },
  {
   "cell_type": "code",
   "execution_count": null,
   "id": "cc5be3b3-6428-4ce6-836b-4f65453e679a",
   "metadata": {},
   "outputs": [],
   "source": [
    "# Read the csv file\n",
    "\n",
    "df = pd.read_csv(\"bacteria.csv\")\n",
    "print(df.head(1))"
   ]
  },
  {
   "cell_type": "code",
   "execution_count": null,
   "id": "bb174ceb-9b21-49b2-9a49-433fe8e3344e",
   "metadata": {},
   "outputs": [],
   "source": [
    "df.isnull().sum()                                 # Look for any empty data"
   ]
  },
  {
   "cell_type": "code",
   "execution_count": null,
   "id": "56805b03-051e-48de-bc48-35e36f0585b1",
   "metadata": {},
   "outputs": [],
   "source": [
    "df.shape"
   ]
  },
  {
   "cell_type": "code",
   "execution_count": null,
   "id": "655eaf18-a6cc-48e8-911f-26f7dc9a20ec",
   "metadata": {},
   "outputs": [],
   "source": [
    "df[\"Harmful to Humans\"].value_counts()      "
   ]
  },
  {
   "cell_type": "code",
   "execution_count": null,
   "id": "0481a372-3ab4-480f-a8e5-def620e36bef",
   "metadata": {},
   "outputs": [],
   "source": [
    "df_clean = df.drop_duplicates(subset='Name')      # Remove any duplicate entries in the \"Name\" column\n",
    "df_clean.shape"
   ]
  },
  {
   "cell_type": "code",
   "execution_count": null,
   "id": "2efcdff2-b8e7-49d1-a2b6-627dade316cc",
   "metadata": {},
   "outputs": [],
   "source": [
    "print(df_clean.columns)"
   ]
  },
  {
   "cell_type": "code",
   "execution_count": null,
   "id": "915fbd62-810f-4568-9a8c-75743fbc4661",
   "metadata": {},
   "outputs": [],
   "source": [
    "df_clean[\"Harmful to Humans\"] = df_clean[\"Harmful to Humans\"].str.strip()          # Remove any spaces from the column"
   ]
  },
  {
   "cell_type": "code",
   "execution_count": null,
   "id": "3aa06ec8-d178-4aca-8337-4f332c10aa69",
   "metadata": {},
   "outputs": [],
   "source": [
    "df_clean[\"Harmful to Humans\"].value_counts()"
   ]
  },
  {
   "cell_type": "code",
   "execution_count": null,
   "id": "38f31f39-d484-443f-b36f-fa89e8533318",
   "metadata": {},
   "outputs": [],
   "source": [
    "print(df_clean.head(1))"
   ]
  },
  {
   "cell_type": "code",
   "execution_count": null,
   "id": "f63d868f-5ffb-48c8-9b54-5c70af329e22",
   "metadata": {},
   "outputs": [],
   "source": [
    "df_encoded = pd.get_dummies(df_clean, columns=['Harmful to Humans'], drop_first=True)\n",
    "\n",
    "# This will encode 'Yes' as 1 and 'No' as 0\n",
    "df_encoded.head()"
   ]
  },
  {
   "cell_type": "code",
   "execution_count": null,
   "id": "a2c9d1d2-d612-4676-9cee-082d71ec0fdd",
   "metadata": {},
   "outputs": [],
   "source": [
    "# Convert the yes or no entries in the column to 1 or 0\n",
    "\n",
    "df_clean['Harmful to Humans'] = df_clean['Harmful to Humans'].map({'Yes': 1, 'No': 0})\n",
    "\n",
    "# View the updated DataFrame\n",
    "df_clean.head()"
   ]
  },
  {
   "cell_type": "code",
   "execution_count": null,
   "id": "d8a1a2c7-faec-44b2-a405-c5208bd0abaf",
   "metadata": {},
   "outputs": [],
   "source": [
    "# The Harmful to Humans column will be removed\n",
    "\n",
    "df_clean_drop = df_clean.drop(columns = \"Harmful to Humans\",axis =1)"
   ]
  },
  {
   "cell_type": "code",
   "execution_count": null,
   "id": "fac3f71a-80f5-41cc-8b36-b1d3fa2aec3d",
   "metadata": {},
   "outputs": [],
   "source": []
  },
  {
   "cell_type": "code",
   "execution_count": null,
   "id": "485bc095-52d7-444f-ad77-758868a9c75f",
   "metadata": {},
   "outputs": [],
   "source": [
    "# Method 1: One - Hot Encoding"
   ]
  },
  {
   "cell_type": "code",
   "execution_count": null,
   "id": "4a991b5a-aaa7-4424-9a04-4c9ffeac6892",
   "metadata": {},
   "outputs": [],
   "source": []
  },
  {
   "cell_type": "code",
   "execution_count": null,
   "id": "8b1bf0d4-cf59-48dc-9d46-d96267c64a2a",
   "metadata": {},
   "outputs": [],
   "source": [
    "# To convert the string entries into the numerical entries\n",
    "\n",
    "x = pd.get_dummies(df_clean_drop, columns=['Name', 'Family', 'Where Found'])\n",
    "\n",
    "print(x.head(1))"
   ]
  },
  {
   "cell_type": "code",
   "execution_count": null,
   "id": "d411e935-f78b-4748-888a-662d95899bca",
   "metadata": {},
   "outputs": [],
   "source": [
    "x.dtypes                            # To check the data type of the dataset"
   ]
  },
  {
   "cell_type": "code",
   "execution_count": null,
   "id": "a63f4e3e-322a-454e-bad9-741e0a206f13",
   "metadata": {},
   "outputs": [],
   "source": [
    "# The data type was found to be boolean isntead of integer. To convert it into integer\n",
    "\n",
    "x = x.astype(int)\n",
    "print(x.head(1))"
   ]
  },
  {
   "cell_type": "code",
   "execution_count": null,
   "id": "abe5bbc8-79f3-42b6-83b8-25390dd6a6fb",
   "metadata": {},
   "outputs": [],
   "source": [
    "y = df_clean['Harmful to Humans']\n",
    "print(y.head(1))"
   ]
  },
  {
   "cell_type": "code",
   "execution_count": null,
   "id": "2e1772f8-db0e-4fb4-9fbf-2b4a0466945a",
   "metadata": {},
   "outputs": [],
   "source": []
  },
  {
   "cell_type": "code",
   "execution_count": null,
   "id": "0723df47-c359-4202-8772-8dcddb68beaf",
   "metadata": {},
   "outputs": [],
   "source": [
    "X_train, X_test, y_train, y_test = train_test_split(x, y, test_size=0.2, random_state=42)"
   ]
  },
  {
   "cell_type": "code",
   "execution_count": null,
   "id": "6ec58ed0-a0d2-4f24-8702-f886ad336a14",
   "metadata": {},
   "outputs": [],
   "source": [
    "models = {\n",
    "    \"Logistic Regression\": LogisticRegression(max_iter=1000),\n",
    "    \"Random Forest\": RandomForestClassifier(n_estimators=100, random_state=42),\n",
    "    \"SVM\": SVC(kernel= 'linear', random_state=42),\n",
    "    \"Decision Tree\": DecisionTreeClassifier(max_depth=5, random_state=42),\n",
    "    \"KNN\": KNeighborsClassifier(n_neighbors=5),\n",
    "    \"Gradient Boosting\": GradientBoostingClassifier(n_estimators=100, learning_rate=0.1, random_state=42)\n",
    "}"
   ]
  },
  {
   "cell_type": "code",
   "execution_count": null,
   "id": "8e1d27bb-ab48-4bdb-901d-8d53194a24a3",
   "metadata": {},
   "outputs": [],
   "source": [
    "for name, model in models.items():\n",
    "    model.fit(X_train, y_train)\n",
    "    y_pred = model.predict(X_test)\n",
    "    accuracy = accuracy_score(y_test, y_pred)\n",
    "    print(f\"Model: {name}\")\n",
    "    print(f\"Accuracy: {accuracy}\")"
   ]
  },
  {
   "cell_type": "code",
   "execution_count": null,
   "id": "9e9dbe0c-2c3a-42f2-bca9-875938631ad7",
   "metadata": {},
   "outputs": [],
   "source": []
  },
  {
   "cell_type": "code",
   "execution_count": null,
   "id": "2e8ad4e2-f1f2-486b-aef6-b20796fa05f6",
   "metadata": {},
   "outputs": [],
   "source": [
    "# Method 2: CounterVecrorizer"
   ]
  },
  {
   "cell_type": "code",
   "execution_count": null,
   "id": "6b1e8986-d230-4d34-a5f5-9a84680b64f0",
   "metadata": {},
   "outputs": [],
   "source": []
  },
  {
   "cell_type": "code",
   "execution_count": null,
   "id": "a8b1e379-58c5-45dc-b848-8fc4d29b3c03",
   "metadata": {},
   "outputs": [],
   "source": [
    "print(df_clean.head(1))"
   ]
  },
  {
   "cell_type": "code",
   "execution_count": null,
   "id": "3dcd9e43-567f-4af5-9d9a-2ea6481beae4",
   "metadata": {},
   "outputs": [],
   "source": [
    "df_final = df_clean.drop(columns = \"Harmful to Humans\",axis = 1)\n",
    "print(df_final.head(1))"
   ]
  },
  {
   "cell_type": "code",
   "execution_count": null,
   "id": "ccc5fe10-70fe-4e64-968f-fefdf86ca0d5",
   "metadata": {},
   "outputs": [],
   "source": [
    "df_final.shape"
   ]
  },
  {
   "cell_type": "code",
   "execution_count": null,
   "id": "e7e9d6f6-2d2a-4c97-96ae-31fefdf613fc",
   "metadata": {},
   "outputs": [],
   "source": [
    "print(df_final.isnull().sum())"
   ]
  },
  {
   "cell_type": "code",
   "execution_count": null,
   "id": "f4ba8d4f-438f-436b-b6d4-59a289b819da",
   "metadata": {},
   "outputs": [],
   "source": [
    "def custom_tokenizer(text):\n",
    "    # Split by spaces while keeping commas as part of the tokens: This is needed because one the column has commas which can be directly used in the counvectorizer\n",
    "    return re.findall(r'\\w+|\\S', text)"
   ]
  },
  {
   "cell_type": "code",
   "execution_count": null,
   "id": "1d6fcf6c-28a7-4bba-b2be-43338ae5fda8",
   "metadata": {},
   "outputs": [],
   "source": [
    "df_final['features'] = df_final['Name'] + df_final['Family'] + df_final['Where Found']\n",
    "\n",
    "vectorizer = CountVectorizer(tokenizer=custom_tokenizer)\n",
    "z = vectorizer.fit_transform(df_final['features']).toarray()"
   ]
  },
  {
   "cell_type": "code",
   "execution_count": null,
   "id": "a733981b-6291-4f66-9ff4-fa8493ca7514",
   "metadata": {},
   "outputs": [],
   "source": [
    "print(z)"
   ]
  },
  {
   "cell_type": "code",
   "execution_count": null,
   "id": "0109cfe3-e160-4e67-86c9-10c42ae7140d",
   "metadata": {},
   "outputs": [],
   "source": [
    "z_train, z_test, y_train, y_test = train_test_split(z, y, test_size=0.2, random_state=42)"
   ]
  },
  {
   "cell_type": "code",
   "execution_count": null,
   "id": "8ac367ab-c74e-408e-bb4c-72551fa10542",
   "metadata": {},
   "outputs": [],
   "source": [
    "models = {\n",
    "    \"Logistic Regression\": LogisticRegression(max_iter=1000),\n",
    "    \"Random Forest\": RandomForestClassifier(n_estimators=100, random_state=42),\n",
    "    \"SVM\": SVC(kernel= 'linear', random_state=42),\n",
    "    \"Decision Tree\": DecisionTreeClassifier(max_depth=5, random_state=42),\n",
    "    \"KNN\": KNeighborsClassifier(n_neighbors=5),\n",
    "    \"Gradient Boosting\": GradientBoostingClassifier(n_estimators=100, learning_rate=0.1, random_state=42)\n",
    "}"
   ]
  },
  {
   "cell_type": "code",
   "execution_count": null,
   "id": "2c1b9b54-f4fd-4d88-b0d6-2f7097972303",
   "metadata": {},
   "outputs": [],
   "source": [
    "for name, model in models.items():\n",
    "    model.fit(z_train, y_train)\n",
    "    y_pred = model.predict(z_test)\n",
    "    accuracy = accuracy_score(y_test, y_pred)\n",
    "    print(f\"Model: {name}\")\n",
    "    print(f\"Accuracy: {accuracy}\")"
   ]
  },
  {
   "cell_type": "code",
   "execution_count": null,
   "id": "afa7b54d-5d2c-418e-9e92-f31fa060586f",
   "metadata": {},
   "outputs": [],
   "source": [
    "# Create a predictive system"
   ]
  },
  {
   "cell_type": "code",
   "execution_count": null,
   "id": "1c0615fe-6333-44b7-8daa-d83e2be2eceb",
   "metadata": {},
   "outputs": [],
   "source": [
    "def bacteria(bacteria_csv):\n",
    "    df_test = pd.read_csv(bacteria_csv)\n",
    "    def custom_tokenizer(text):\n",
    "        return re.findall(r'\\w+|\\S', text)\n",
    "    df_test['features'] = df_test['Name'] + df_test['Family'] + df_test['Where Found']\n",
    "\n",
    "    vectorizer = CountVectorizer(tokenizer=custom_tokenizer)\n",
    "    t = vectorizer.fit_transform(df_final['features']).toarray()\n",
    "    pred = model.predict(t)\n",
    "\n",
    "    if pred[0] == 1:\n",
    "        print (\"This bacteria is harmful\")\n",
    "    else:\n",
    "        print(\"This bacteria is not harmful\")"
   ]
  },
  {
   "cell_type": "code",
   "execution_count": null,
   "id": "d8560cf3-a43d-48c3-8c1e-17c7cd22819d",
   "metadata": {},
   "outputs": [],
   "source": [
    "bacteria_csv = \"bacteria_test.csv\"\n",
    "bacteria(bacteria_csv)"
   ]
  },
  {
   "cell_type": "code",
   "execution_count": null,
   "id": "9d529c1f-ba5c-4512-9013-a57f45e83285",
   "metadata": {},
   "outputs": [],
   "source": []
  }
 ],
 "metadata": {
  "kernelspec": {
   "display_name": "Python 3 (ipykernel)",
   "language": "python",
   "name": "python3"
  },
  "language_info": {
   "codemirror_mode": {
    "name": "ipython",
    "version": 3
   },
   "file_extension": ".py",
   "mimetype": "text/x-python",
   "name": "python",
   "nbconvert_exporter": "python",
   "pygments_lexer": "ipython3",
   "version": "3.12.3"
  }
 },
 "nbformat": 4,
 "nbformat_minor": 5
}
